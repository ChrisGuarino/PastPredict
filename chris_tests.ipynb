{
 "cells": [
  {
   "cell_type": "markdown",
   "metadata": {},
   "source": [
    "## Loading Data"
   ]
  },
  {
   "cell_type": "code",
   "execution_count": 2,
   "metadata": {},
   "outputs": [
    {
     "name": "stderr",
     "output_type": "stream",
     "text": [
      "[*********************100%%**********************]  1 of 1 completed\n"
     ]
    }
   ],
   "source": [
    "from pandas_datareader import data as pdr\n",
    "\n",
    "import yfinance as yf\n",
    "yf.pdr_override()\n",
    "\n",
    "df = pdr.get_data_yahoo(\"IBM\", start=\"2019-01-01\", end=\"2024-01-01\")"
   ]
  },
  {
   "cell_type": "code",
   "execution_count": 6,
   "metadata": {},
   "outputs": [
    {
     "data": {
      "text/html": [
       "<div>\n",
       "<style scoped>\n",
       "    .dataframe tbody tr th:only-of-type {\n",
       "        vertical-align: middle;\n",
       "    }\n",
       "\n",
       "    .dataframe tbody tr th {\n",
       "        vertical-align: top;\n",
       "    }\n",
       "\n",
       "    .dataframe thead th {\n",
       "        text-align: right;\n",
       "    }\n",
       "</style>\n",
       "<table border=\"1\" class=\"dataframe\">\n",
       "  <thead>\n",
       "    <tr style=\"text-align: right;\">\n",
       "      <th></th>\n",
       "      <th>Open</th>\n",
       "      <th>High</th>\n",
       "      <th>Low</th>\n",
       "      <th>Close</th>\n",
       "      <th>Adj Close</th>\n",
       "      <th>Volume</th>\n",
       "    </tr>\n",
       "    <tr>\n",
       "      <th>Date</th>\n",
       "      <th></th>\n",
       "      <th></th>\n",
       "      <th></th>\n",
       "      <th></th>\n",
       "      <th></th>\n",
       "      <th></th>\n",
       "    </tr>\n",
       "  </thead>\n",
       "  <tbody>\n",
       "    <tr>\n",
       "      <th>2019-01-02</th>\n",
       "      <td>107.084129</td>\n",
       "      <td>110.879539</td>\n",
       "      <td>106.778206</td>\n",
       "      <td>110.143402</td>\n",
       "      <td>85.522598</td>\n",
       "      <td>4434935</td>\n",
       "    </tr>\n",
       "    <tr>\n",
       "      <th>2019-01-03</th>\n",
       "      <td>109.493309</td>\n",
       "      <td>109.827919</td>\n",
       "      <td>107.734222</td>\n",
       "      <td>107.944550</td>\n",
       "      <td>83.815285</td>\n",
       "      <td>4546648</td>\n",
       "    </tr>\n",
       "    <tr>\n",
       "      <th>2019-01-04</th>\n",
       "      <td>109.856598</td>\n",
       "      <td>112.323135</td>\n",
       "      <td>109.407265</td>\n",
       "      <td>112.160614</td>\n",
       "      <td>87.088913</td>\n",
       "      <td>4683779</td>\n",
       "    </tr>\n",
       "    <tr>\n",
       "      <th>2019-01-07</th>\n",
       "      <td>112.332695</td>\n",
       "      <td>113.604210</td>\n",
       "      <td>111.539200</td>\n",
       "      <td>112.954109</td>\n",
       "      <td>87.705017</td>\n",
       "      <td>3923755</td>\n",
       "    </tr>\n",
       "    <tr>\n",
       "      <th>2019-01-08</th>\n",
       "      <td>114.397705</td>\n",
       "      <td>115.267685</td>\n",
       "      <td>113.747612</td>\n",
       "      <td>114.560226</td>\n",
       "      <td>88.952126</td>\n",
       "      <td>4982726</td>\n",
       "    </tr>\n",
       "    <tr>\n",
       "      <th>...</th>\n",
       "      <td>...</td>\n",
       "      <td>...</td>\n",
       "      <td>...</td>\n",
       "      <td>...</td>\n",
       "      <td>...</td>\n",
       "      <td>...</td>\n",
       "    </tr>\n",
       "    <tr>\n",
       "      <th>2023-12-22</th>\n",
       "      <td>161.100006</td>\n",
       "      <td>162.410004</td>\n",
       "      <td>161.000000</td>\n",
       "      <td>162.139999</td>\n",
       "      <td>160.675140</td>\n",
       "      <td>2439800</td>\n",
       "    </tr>\n",
       "    <tr>\n",
       "      <th>2023-12-26</th>\n",
       "      <td>162.229996</td>\n",
       "      <td>163.309998</td>\n",
       "      <td>162.050003</td>\n",
       "      <td>163.210007</td>\n",
       "      <td>161.735489</td>\n",
       "      <td>1772400</td>\n",
       "    </tr>\n",
       "    <tr>\n",
       "      <th>2023-12-27</th>\n",
       "      <td>163.139999</td>\n",
       "      <td>163.639999</td>\n",
       "      <td>162.679993</td>\n",
       "      <td>163.460007</td>\n",
       "      <td>161.983231</td>\n",
       "      <td>3234600</td>\n",
       "    </tr>\n",
       "    <tr>\n",
       "      <th>2023-12-28</th>\n",
       "      <td>163.960007</td>\n",
       "      <td>163.960007</td>\n",
       "      <td>163.399994</td>\n",
       "      <td>163.750000</td>\n",
       "      <td>162.270599</td>\n",
       "      <td>2071300</td>\n",
       "    </tr>\n",
       "    <tr>\n",
       "      <th>2023-12-29</th>\n",
       "      <td>163.750000</td>\n",
       "      <td>164.179993</td>\n",
       "      <td>162.830002</td>\n",
       "      <td>163.550003</td>\n",
       "      <td>162.072403</td>\n",
       "      <td>2525600</td>\n",
       "    </tr>\n",
       "  </tbody>\n",
       "</table>\n",
       "<p>1258 rows × 6 columns</p>\n",
       "</div>"
      ],
      "text/plain": [
       "                  Open        High         Low       Close   Adj Close  \\\n",
       "Date                                                                     \n",
       "2019-01-02  107.084129  110.879539  106.778206  110.143402   85.522598   \n",
       "2019-01-03  109.493309  109.827919  107.734222  107.944550   83.815285   \n",
       "2019-01-04  109.856598  112.323135  109.407265  112.160614   87.088913   \n",
       "2019-01-07  112.332695  113.604210  111.539200  112.954109   87.705017   \n",
       "2019-01-08  114.397705  115.267685  113.747612  114.560226   88.952126   \n",
       "...                ...         ...         ...         ...         ...   \n",
       "2023-12-22  161.100006  162.410004  161.000000  162.139999  160.675140   \n",
       "2023-12-26  162.229996  163.309998  162.050003  163.210007  161.735489   \n",
       "2023-12-27  163.139999  163.639999  162.679993  163.460007  161.983231   \n",
       "2023-12-28  163.960007  163.960007  163.399994  163.750000  162.270599   \n",
       "2023-12-29  163.750000  164.179993  162.830002  163.550003  162.072403   \n",
       "\n",
       "             Volume  \n",
       "Date                 \n",
       "2019-01-02  4434935  \n",
       "2019-01-03  4546648  \n",
       "2019-01-04  4683779  \n",
       "2019-01-07  3923755  \n",
       "2019-01-08  4982726  \n",
       "...             ...  \n",
       "2023-12-22  2439800  \n",
       "2023-12-26  1772400  \n",
       "2023-12-27  3234600  \n",
       "2023-12-28  2071300  \n",
       "2023-12-29  2525600  \n",
       "\n",
       "[1258 rows x 6 columns]"
      ]
     },
     "execution_count": 6,
     "metadata": {},
     "output_type": "execute_result"
    }
   ],
   "source": [
    "df"
   ]
  },
  {
   "cell_type": "markdown",
   "metadata": {},
   "source": [
    "## Normalize the Data"
   ]
  },
  {
   "cell_type": "code",
   "execution_count": 7,
   "metadata": {},
   "outputs": [],
   "source": [
    "import pandas as pd\n",
    "from sklearn.preprocessing import StandardScaler\n",
    "\n",
    "scaler = StandardScaler()\n",
    "scaled_features = scaler.fit_transform(df) "
   ]
  },
  {
   "cell_type": "code",
   "execution_count": 24,
   "metadata": {},
   "outputs": [
    {
     "data": {
      "text/plain": [
       "(1258, 6)"
      ]
     },
     "execution_count": 24,
     "metadata": {},
     "output_type": "execute_result"
    }
   ],
   "source": [
    "scaled_features.shape"
   ]
  },
  {
   "cell_type": "markdown",
   "metadata": {},
   "source": [
    "## Sequences/Batching"
   ]
  },
  {
   "cell_type": "code",
   "execution_count": 37,
   "metadata": {},
   "outputs": [],
   "source": [
    "import numpy as np\n",
    "\n",
    "def create_sequences(data, seq_length):\n",
    "    xs = []\n",
    "    ys = []\n",
    "\n",
    "    for i in range(len(data)-seq_length-1):\n",
    "        x = data[i:(i+seq_length)]\n",
    "        y = data[i+seq_length][4] \n",
    "        xs.append(x)\n",
    "        ys.append(y)\n",
    "\n",
    "    return np.array(xs), np.array(ys)\n",
    "\n",
    "seq_length = 5\n",
    "X, y = create_sequences(scaled_features, seq_length)"
   ]
  },
  {
   "cell_type": "code",
   "execution_count": 38,
   "metadata": {},
   "outputs": [
    {
     "data": {
      "text/plain": [
       "(1252, 5, 6)"
      ]
     },
     "execution_count": 38,
     "metadata": {},
     "output_type": "execute_result"
    }
   ],
   "source": [
    "X.shape"
   ]
  },
  {
   "cell_type": "markdown",
   "metadata": {},
   "source": [
    "## Split the Data"
   ]
  },
  {
   "cell_type": "code",
   "execution_count": 10,
   "metadata": {},
   "outputs": [],
   "source": [
    "split_fraction = 0.8\n",
    "split = int(split_fraction * len(X))\n",
    "\n",
    "X_train, X_test = X[:split], X[split:]\n",
    "y_train, y_test = y[:split], y[split:]"
   ]
  },
  {
   "cell_type": "code",
   "execution_count": 22,
   "metadata": {},
   "outputs": [
    {
     "data": {
      "text/plain": [
       "(1001, 5, 6)"
      ]
     },
     "execution_count": 22,
     "metadata": {},
     "output_type": "execute_result"
    }
   ],
   "source": [
    "X_train.shape"
   ]
  },
  {
   "cell_type": "code",
   "execution_count": 21,
   "metadata": {},
   "outputs": [
    {
     "data": {
      "text/plain": [
       "(1001,)"
      ]
     },
     "execution_count": 21,
     "metadata": {},
     "output_type": "execute_result"
    }
   ],
   "source": [
    "y_train.shape"
   ]
  },
  {
   "cell_type": "markdown",
   "metadata": {},
   "source": [
    "## Convert to Torch Tensor"
   ]
  },
  {
   "cell_type": "code",
   "execution_count": 11,
   "metadata": {},
   "outputs": [],
   "source": [
    "import torch\n",
    "from torch.utils.data import TensorDataset, DataLoader\n",
    "\n",
    "batch_size = 64  # Example batch size\n",
    "\n",
    "train_data = TensorDataset(torch.Tensor(X_train), torch.Tensor(y_train))\n",
    "train_loader = DataLoader(train_data, shuffle=True, batch_size=batch_size)\n",
    "\n",
    "test_data = TensorDataset(torch.Tensor(X_test), torch.Tensor(y_test))\n",
    "test_loader = DataLoader(test_data, shuffle=False, batch_size=batch_size)"
   ]
  },
  {
   "cell_type": "code",
   "execution_count": 17,
   "metadata": {},
   "outputs": [
    {
     "data": {
      "text/plain": [
       "(tensor([[[-2.1319, -1.9114, -2.0294, -1.8493, -1.9183, -0.1714],\n",
       "          [-1.9102, -2.0093, -1.9426, -2.0510, -2.0295, -0.1346],\n",
       "          [-1.8767, -1.7769, -1.7908, -1.6642, -1.8162, -0.0893],\n",
       "          [-1.6489, -1.6576, -1.5973, -1.5913, -1.7761, -0.3401],\n",
       "          [-1.4588, -1.5026, -1.3968, -1.4440, -1.6948,  0.0093]],\n",
       " \n",
       "         [[-1.9102, -2.0093, -1.9426, -2.0510, -2.0295, -0.1346],\n",
       "          [-1.8767, -1.7769, -1.7908, -1.6642, -1.8162, -0.0893],\n",
       "          [-1.6489, -1.6576, -1.5973, -1.5913, -1.7761, -0.3401],\n",
       "          [-1.4588, -1.5026, -1.3968, -1.4440, -1.6948,  0.0093],\n",
       "          [-1.3488, -1.4287, -1.3196, -1.3685, -1.6532, -0.3807]],\n",
       " \n",
       "         [[-1.8767, -1.7769, -1.7908, -1.6642, -1.8162, -0.0893],\n",
       "          [-1.6489, -1.6576, -1.5973, -1.5913, -1.7761, -0.3401],\n",
       "          [-1.4588, -1.5026, -1.3968, -1.4440, -1.6948,  0.0093],\n",
       "          [-1.3488, -1.4287, -1.3196, -1.3685, -1.6532, -0.3807],\n",
       "          [-1.4218, -1.3877, -1.3127, -1.2720, -1.6000, -0.2853]],\n",
       " \n",
       "         [[-1.6489, -1.6576, -1.5973, -1.5913, -1.7761, -0.3401],\n",
       "          [-1.4588, -1.5026, -1.3968, -1.4440, -1.6948,  0.0093],\n",
       "          [-1.3488, -1.4287, -1.3196, -1.3685, -1.6532, -0.3807],\n",
       "          [-1.4218, -1.3877, -1.3127, -1.2720, -1.6000, -0.2853],\n",
       "          [-1.2899, -1.4091, -1.2910, -1.3010, -1.6160, -0.3501]],\n",
       " \n",
       "         [[-1.4588, -1.5026, -1.3968, -1.4440, -1.6948,  0.0093],\n",
       "          [-1.3488, -1.4287, -1.3196, -1.3685, -1.6532, -0.3807],\n",
       "          [-1.4218, -1.3877, -1.3127, -1.2720, -1.6000, -0.2853],\n",
       "          [-1.2899, -1.4091, -1.2910, -1.3010, -1.6160, -0.3501],\n",
       "          [-1.3840, -1.4955, -1.3292, -1.3948, -1.6677,  0.1699]],\n",
       " \n",
       "         [[-1.3488, -1.4287, -1.3196, -1.3685, -1.6532, -0.3807],\n",
       "          [-1.4218, -1.3877, -1.3127, -1.2720, -1.6000, -0.2853],\n",
       "          [-1.2899, -1.4091, -1.2910, -1.3010, -1.6160, -0.3501],\n",
       "          [-1.3840, -1.4955, -1.3292, -1.3948, -1.6677,  0.1699],\n",
       "          [-1.3444, -1.3815, -1.2372, -1.2773, -1.6029, -0.4242]],\n",
       " \n",
       "         [[-1.4218, -1.3877, -1.3127, -1.2720, -1.6000, -0.2853],\n",
       "          [-1.2899, -1.4091, -1.2910, -1.3010, -1.6160, -0.3501],\n",
       "          [-1.3840, -1.4955, -1.3292, -1.3948, -1.6677,  0.1699],\n",
       "          [-1.3444, -1.3815, -1.2372, -1.2773, -1.6029, -0.4242],\n",
       "          [-1.2899, -1.3753, -1.2363, -1.2869, -1.6082, -0.3091]],\n",
       " \n",
       "         [[-1.2899, -1.4091, -1.2910, -1.3010, -1.6160, -0.3501],\n",
       "          [-1.3840, -1.4955, -1.3292, -1.3948, -1.6677,  0.1699],\n",
       "          [-1.3444, -1.3815, -1.2372, -1.2773, -1.6029, -0.4242],\n",
       "          [-1.2899, -1.3753, -1.2363, -1.2869, -1.6082, -0.3091],\n",
       "          [-1.3796, -1.3388, -1.2606, -1.2369, -1.5807,  0.1012]],\n",
       " \n",
       "         [[-1.3840, -1.4955, -1.3292, -1.3948, -1.6677,  0.1699],\n",
       "          [-1.3444, -1.3815, -1.2372, -1.2773, -1.6029, -0.4242],\n",
       "          [-1.2899, -1.3753, -1.2363, -1.2869, -1.6082, -0.3091],\n",
       "          [-1.3796, -1.3388, -1.2606, -1.2369, -1.5807,  0.1012],\n",
       "          [-1.1412, -1.1330, -1.0732, -1.0939, -1.5018,  0.4390]],\n",
       " \n",
       "         [[-1.3444, -1.3815, -1.2372, -1.2773, -1.6029, -0.4242],\n",
       "          [-1.2899, -1.3753, -1.2363, -1.2869, -1.6082, -0.3091],\n",
       "          [-1.3796, -1.3388, -1.2606, -1.2369, -1.5807,  0.1012],\n",
       "          [-1.1412, -1.1330, -1.0732, -1.0939, -1.5018,  0.4390],\n",
       "          [-1.1385, -1.2150, -1.1747, -1.2080, -1.5647,  1.8348]]]),\n",
       " tensor([-1.6532, -1.6000, -1.6160, -1.6677, -1.6029, -1.6082, -1.5807, -1.5018,\n",
       "         -1.5647, -1.0631]))"
      ]
     },
     "execution_count": 17,
     "metadata": {},
     "output_type": "execute_result"
    }
   ],
   "source": [
    "train_data[:10]"
   ]
  },
  {
   "cell_type": "code",
   "execution_count": 13,
   "metadata": {},
   "outputs": [],
   "source": [
    "import torch\n",
    "import torch.nn as nn\n",
    "\n",
    "class SimpleRNN(nn.Module):\n",
    "    def __init__(self, input_size, hidden_size, output_size):\n",
    "        super(SimpleRNN, self).__init__()\n",
    "        self.hidden_size = hidden_size\n",
    "        self.rnn = nn.RNN(input_size, hidden_size, num_layers=1, batch_first=True)\n",
    "        self.fc = nn.Linear(hidden_size, output_size)\n",
    "    \n",
    "    def forward(self, x):\n",
    "        h0 = torch.zeros(1, x.size(0), self.hidden_size)\n",
    "        # Forward propagate the RNN\n",
    "        out, _ = self.rnn(x, h0)\n",
    "        # Pass the output of the last time step to the classifier\n",
    "        out = self.fc(out[:, -1, :])\n",
    "        return out"
   ]
  },
  {
   "cell_type": "markdown",
   "metadata": {},
   "source": [
    "## Training"
   ]
  },
  {
   "cell_type": "code",
   "execution_count": 14,
   "metadata": {},
   "outputs": [
    {
     "name": "stdout",
     "output_type": "stream",
     "text": [
      "Running on CPU\n",
      "Epoch [1/100], Loss: 0.4485\n",
      "Epoch [2/100], Loss: 0.1292\n",
      "Epoch [3/100], Loss: 0.1803\n",
      "Epoch [4/100], Loss: 0.0941\n",
      "Epoch [5/100], Loss: 0.0469\n",
      "Epoch [6/100], Loss: 0.0705\n",
      "Epoch [7/100], Loss: 0.0232\n",
      "Epoch [8/100], Loss: 0.0344\n",
      "Epoch [9/100], Loss: 0.0354\n",
      "Epoch [10/100], Loss: 0.0331\n",
      "Epoch [11/100], Loss: 0.0105\n",
      "Epoch [12/100], Loss: 0.0148\n",
      "Epoch [13/100], Loss: 0.0105\n",
      "Epoch [14/100], Loss: 0.0129\n",
      "Epoch [15/100], Loss: 0.0313\n",
      "Epoch [16/100], Loss: 0.0170\n",
      "Epoch [17/100], Loss: 0.0222\n",
      "Epoch [18/100], Loss: 0.0149\n",
      "Epoch [19/100], Loss: 0.0168\n",
      "Epoch [20/100], Loss: 0.0162\n",
      "Epoch [21/100], Loss: 0.0153\n",
      "Epoch [22/100], Loss: 0.0098\n",
      "Epoch [23/100], Loss: 0.0145\n",
      "Epoch [24/100], Loss: 0.0081\n",
      "Epoch [25/100], Loss: 0.0269\n",
      "Epoch [26/100], Loss: 0.0178\n",
      "Epoch [27/100], Loss: 0.0181\n",
      "Epoch [28/100], Loss: 0.0147\n",
      "Epoch [29/100], Loss: 0.0176\n",
      "Epoch [30/100], Loss: 0.0159\n",
      "Epoch [31/100], Loss: 0.0147\n",
      "Epoch [32/100], Loss: 0.0134\n",
      "Epoch [33/100], Loss: 0.0107\n",
      "Epoch [34/100], Loss: 0.0090\n",
      "Epoch [35/100], Loss: 0.0102\n",
      "Epoch [36/100], Loss: 0.0270\n",
      "Epoch [37/100], Loss: 0.0304\n",
      "Epoch [38/100], Loss: 0.0150\n",
      "Epoch [39/100], Loss: 0.0086\n",
      "Epoch [40/100], Loss: 0.0184\n",
      "Epoch [41/100], Loss: 0.0074\n",
      "Epoch [42/100], Loss: 0.0101\n",
      "Epoch [43/100], Loss: 0.0114\n",
      "Epoch [44/100], Loss: 0.0267\n",
      "Epoch [45/100], Loss: 0.0144\n",
      "Epoch [46/100], Loss: 0.0409\n",
      "Epoch [47/100], Loss: 0.0087\n",
      "Epoch [48/100], Loss: 0.0284\n",
      "Epoch [49/100], Loss: 0.0110\n",
      "Epoch [50/100], Loss: 0.0071\n",
      "Epoch [51/100], Loss: 0.0109\n",
      "Epoch [52/100], Loss: 0.0100\n",
      "Epoch [53/100], Loss: 0.0111\n",
      "Epoch [54/100], Loss: 0.0259\n",
      "Epoch [55/100], Loss: 0.0219\n",
      "Epoch [56/100], Loss: 0.0260\n",
      "Epoch [57/100], Loss: 0.0095\n",
      "Epoch [58/100], Loss: 0.0060\n",
      "Epoch [59/100], Loss: 0.0140\n",
      "Epoch [60/100], Loss: 0.0213\n",
      "Epoch [61/100], Loss: 0.0236\n",
      "Epoch [62/100], Loss: 0.0130\n",
      "Epoch [63/100], Loss: 0.0057\n",
      "Epoch [64/100], Loss: 0.0124\n",
      "Epoch [65/100], Loss: 0.0211\n",
      "Epoch [66/100], Loss: 0.0096\n",
      "Epoch [67/100], Loss: 0.0170\n",
      "Epoch [68/100], Loss: 0.0116\n",
      "Epoch [69/100], Loss: 0.0135\n",
      "Epoch [70/100], Loss: 0.0080\n",
      "Epoch [71/100], Loss: 0.0108\n",
      "Epoch [72/100], Loss: 0.0083\n",
      "Epoch [73/100], Loss: 0.0099\n",
      "Epoch [74/100], Loss: 0.0066\n",
      "Epoch [75/100], Loss: 0.0156\n",
      "Epoch [76/100], Loss: 0.0092\n",
      "Epoch [77/100], Loss: 0.0107\n",
      "Epoch [78/100], Loss: 0.0097\n",
      "Epoch [79/100], Loss: 0.0156\n",
      "Epoch [80/100], Loss: 0.0157\n",
      "Epoch [81/100], Loss: 0.0167\n",
      "Epoch [82/100], Loss: 0.0074\n",
      "Epoch [83/100], Loss: 0.0102\n",
      "Epoch [84/100], Loss: 0.0214\n",
      "Epoch [85/100], Loss: 0.0083\n",
      "Epoch [86/100], Loss: 0.0152\n",
      "Epoch [87/100], Loss: 0.0215\n",
      "Epoch [88/100], Loss: 0.0116\n",
      "Epoch [89/100], Loss: 0.0084\n",
      "Epoch [90/100], Loss: 0.0155\n",
      "Epoch [91/100], Loss: 0.0072\n",
      "Epoch [92/100], Loss: 0.0055\n",
      "Epoch [93/100], Loss: 0.0096\n",
      "Epoch [94/100], Loss: 0.0088\n",
      "Epoch [95/100], Loss: 0.0145\n",
      "Epoch [96/100], Loss: 0.0122\n",
      "Epoch [97/100], Loss: 0.0103\n",
      "Epoch [98/100], Loss: 0.0288\n",
      "Epoch [99/100], Loss: 0.0143\n",
      "Epoch [100/100], Loss: 0.0113\n",
      "Evaluation done.\n"
     ]
    }
   ],
   "source": [
    "import torch.optim as optim\n",
    "\n",
    "# Define device\n",
    "device = torch.device(\"cuda\" if torch.cuda.is_available() else \"cpu\")\n",
    "if device == \"cuda\":\n",
    "    print(\"Running on GPU\")\n",
    "else: print(\"Running on CPU\")\n",
    "\n",
    "#Model Define\n",
    "model = SimpleRNN(input_size=6, hidden_size=20, output_size=1).to(device)\n",
    "criterion = nn.MSELoss()\n",
    "optimizer = optim.Adam(model.parameters(), lr=0.001)\n",
    "\n",
    "# Training \n",
    "num_epochs = 100\n",
    "model.train()\n",
    "\n",
    "for epoch in range(num_epochs):\n",
    "    for inputs, labels in train_loader:\n",
    "        inputs, labels = inputs.to(device), labels.to(device)\n",
    "        \n",
    "        # Zero the parameter gradients\n",
    "        optimizer.zero_grad()\n",
    "        \n",
    "        # Forward pass\n",
    "        outputs = model(inputs)\n",
    "        \n",
    "        # Calculate loss\n",
    "        loss = criterion(outputs, labels.unsqueeze(-1))\n",
    "        \n",
    "        # Backward pass and optimize\n",
    "        loss.backward()\n",
    "        optimizer.step()\n",
    "        \n",
    "    print(f'Epoch [{epoch+1}/{num_epochs}], Loss: {loss.item():.4f}')\n",
    "\n",
    "# Evaluation on test set (this is a very basic form of evaluation)\n",
    "model.eval()  # Set model to evaluation mode\n",
    "with torch.no_grad():\n",
    "    correct = 0\n",
    "    total = 0\n",
    "    for inputs, labels in test_loader:\n",
    "        inputs, labels = inputs.to(device), labels.to(device)\n",
    "        outputs = model(inputs)\n",
    "        \n",
    "        # Here you would implement your logic to evaluate the model's performance\n",
    "        # For example, calculating the mean squared error for regression tasks\n",
    "\n",
    "print('Evaluation done.')\n"
   ]
  },
  {
   "cell_type": "markdown",
   "metadata": {},
   "source": [
    "## Regression Eval"
   ]
  },
  {
   "cell_type": "code",
   "execution_count": 52,
   "metadata": {},
   "outputs": [
    {
     "name": "stdout",
     "output_type": "stream",
     "text": [
      "Mean Absolute Error: 0.1354\n",
      "Mean Squared Error: 0.0460\n",
      "Root Mean Squared Error: 0.2145\n"
     ]
    }
   ],
   "source": [
    "from sklearn.metrics import mean_absolute_error, mean_squared_error\n",
    "import numpy as np\n",
    "\n",
    "model.eval()  # Set the model to evaluation mode\n",
    "\n",
    "actuals = []\n",
    "predictions = []\n",
    "\n",
    "with torch.no_grad():\n",
    "    for inputs, labels in test_loader:\n",
    "        inputs, labels = inputs.to(device), labels.to(device)\n",
    "        outputs = model(inputs)\n",
    "\n",
    "        actuals.extend(labels.cpu().numpy())\n",
    "        predictions.extend(outputs.cpu().numpy())\n",
    "\n",
    "# Convert lists to numpy arrays for evaluation\n",
    "actuals = np.array(actuals)\n",
    "predictions = np.array(predictions)\n",
    "\n",
    "mae = mean_absolute_error(actuals, predictions)\n",
    "mse = mean_squared_error(actuals, predictions)\n",
    "rmse = np.sqrt(mse)\n",
    "\n",
    "print(f'Mean Absolute Error: {mae:.4f}')\n",
    "print(f'Mean Squared Error: {mse:.4f}')\n",
    "print(f'Root Mean Squared Error: {rmse:.4f}')\n"
   ]
  },
  {
   "cell_type": "code",
   "execution_count": null,
   "metadata": {},
   "outputs": [],
   "source": []
  }
 ],
 "metadata": {
  "kernelspec": {
   "display_name": "predictpast",
   "language": "python",
   "name": "python3"
  },
  "language_info": {
   "codemirror_mode": {
    "name": "ipython",
    "version": 3
   },
   "file_extension": ".py",
   "mimetype": "text/x-python",
   "name": "python",
   "nbconvert_exporter": "python",
   "pygments_lexer": "ipython3",
   "version": "3.10.14"
  }
 },
 "nbformat": 4,
 "nbformat_minor": 2
}
