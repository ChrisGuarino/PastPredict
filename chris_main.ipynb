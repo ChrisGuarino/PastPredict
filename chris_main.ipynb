{
 "cells": [
  {
   "cell_type": "code",
   "execution_count": 1,
   "metadata": {},
   "outputs": [
    {
     "name": "stderr",
     "output_type": "stream",
     "text": [
      "[*********************100%%**********************]  1 of 1 completed\n"
     ]
    }
   ],
   "source": [
    "from pandas_datareader import data as pdr\n",
    "\n",
    "import yfinance as yf\n",
    "yf.pdr_override()\n",
    "\n",
    "df = pdr.get_data_yahoo(\"IBM\", start=\"2019-01-01\", end=\"2024-01-01\")"
   ]
  },
  {
   "cell_type": "code",
   "execution_count": 23,
   "metadata": {},
   "outputs": [
    {
     "data": {
      "text/plain": [
       "(1258, 6)"
      ]
     },
     "execution_count": 23,
     "metadata": {},
     "output_type": "execute_result"
    }
   ],
   "source": [
    "df.shape\n"
   ]
  },
  {
   "cell_type": "code",
   "execution_count": 2,
   "metadata": {},
   "outputs": [],
   "source": [
    "reversed_df = df.iloc[::-1]"
   ]
  },
  {
   "cell_type": "code",
   "execution_count": 3,
   "metadata": {},
   "outputs": [],
   "source": [
    "from sklearn.preprocessing import StandardScaler\n",
    "\n",
    "scaler = StandardScaler()\n",
    "scaled_features_fwd = scaler.fit_transform(df) \n",
    "scaled_features_bkwd = scaler.fit_transform(reversed_df) "
   ]
  },
  {
   "cell_type": "code",
   "execution_count": 4,
   "metadata": {},
   "outputs": [],
   "source": [
    "import numpy as np\n",
    "\n",
    "def create_sequences(data, seq_length, prediction_length):\n",
    "    xs = []\n",
    "    ys = []\n",
    "\n",
    "    for i in range(len(data)-seq_length-prediction_length+1):\n",
    "        x = data[i:(i+seq_length)]\n",
    "        y = data[i+seq_length+prediction_length-1][4]  \n",
    "        xs.append(x)\n",
    "        ys.append(y)\n",
    "\n",
    "    return np.array(xs), np.array(ys)\n",
    "\n",
    "seq_length = 5\n",
    "predicition_length = 1\n",
    "X_fwd, y_fwd = create_sequences(scaled_features_fwd, seq_length,predicition_length)\n",
    "X_bkwd, y_bkwd = create_sequences(scaled_features_bkwd, seq_length, predicition_length)"
   ]
  },
  {
   "cell_type": "code",
   "execution_count": 5,
   "metadata": {},
   "outputs": [],
   "source": [
    "split_fraction = 0.8\n",
    "split = int(split_fraction * len(X_fwd))\n",
    "\n",
    "X_train_fwd, X_test_fwd = X_fwd[:split], X_fwd[split:]\n",
    "y_train_fwd, y_test_fwd = y_fwd[:split], y_fwd[split:]\n",
    "\n",
    "X_train_bkwd, X_test_bkwd = X_bkwd[:split], X_bkwd[split:]\n",
    "y_train_bkwd, y_test_bkwd = y_bkwd[:split], y_bkwd[split:]"
   ]
  },
  {
   "cell_type": "code",
   "execution_count": 6,
   "metadata": {},
   "outputs": [],
   "source": [
    "import torch\n",
    "from torch.utils.data import TensorDataset, DataLoader\n",
    "\n",
    "batch_size = 64  \n",
    "\n",
    "#Forward\n",
    "train_data = TensorDataset(torch.Tensor(X_train_fwd), torch.Tensor(y_train_fwd))\n",
    "train_loader_fwd = DataLoader(train_data, shuffle=True, batch_size=batch_size)\n",
    "\n",
    "test_data = TensorDataset(torch.Tensor(X_test_fwd), torch.Tensor(y_test_fwd))\n",
    "test_loader_fwd = DataLoader(test_data, shuffle=False, batch_size=batch_size)\n",
    "\n",
    "#Backward\n",
    "train_data = TensorDataset(torch.Tensor(X_train_bkwd), torch.Tensor(y_train_bkwd))\n",
    "train_loader_bkwd = DataLoader(train_data, shuffle=True, batch_size=batch_size)\n",
    "\n",
    "test_data = TensorDataset(torch.Tensor(X_test_bkwd), torch.Tensor(y_test_bkwd))\n",
    "test_loader_bkwd = DataLoader(test_data, shuffle=False, batch_size=batch_size)"
   ]
  },
  {
   "cell_type": "markdown",
   "metadata": {},
   "source": [
    "## Simple RNN"
   ]
  },
  {
   "cell_type": "code",
   "execution_count": 7,
   "metadata": {},
   "outputs": [],
   "source": [
    "import torch\n",
    "import torch.nn as nn\n",
    "\n",
    "class SimpleRNN(nn.Module):\n",
    "    def __init__(self, input_size, hidden_size, output_size):\n",
    "        super(SimpleRNN, self).__init__()\n",
    "        self.hidden_size = hidden_size\n",
    "        self.rnn = nn.RNN(input_size, hidden_size, num_layers=1, batch_first=True)\n",
    "        self.fc = nn.Linear(hidden_size, output_size)\n",
    "    \n",
    "    def forward(self, x):\n",
    "        h0 = torch.zeros(1, x.size(0), self.hidden_size)\n",
    "        # Forward propagate the RNN\n",
    "        out, _ = self.rnn(x, h0)\n",
    "        # Pass the output of the last time step to the classifier\n",
    "        out = self.fc(out[:, -1, :])\n",
    "        return out"
   ]
  },
  {
   "cell_type": "code",
   "execution_count": 8,
   "metadata": {},
   "outputs": [],
   "source": [
    "def training_loop(num_epochs, device, optimizer, criterion, model, train_loader):\n",
    "    loss_values =[]\n",
    "    model.train()\n",
    "    \n",
    "    for epoch in range(num_epochs):\n",
    "        for inputs, labels in train_loader:\n",
    "            inputs, labels = inputs.to(device), labels.to(device)\n",
    "            \n",
    "            # Zero the parameter gradients\n",
    "            optimizer.zero_grad()\n",
    "            \n",
    "            # Forward pass\n",
    "            outputs = model(inputs)\n",
    "            \n",
    "            # Calculate loss\n",
    "            loss = criterion(outputs, labels.unsqueeze(-1))\n",
    "            \n",
    "            # Backward pass and optimize\n",
    "            loss.backward()\n",
    "            optimizer.step()\n",
    "    \n",
    "        loss_values.append(loss.item())\n",
    "        print(f'Epoch [{epoch+1}/{num_epochs}], Loss: {loss.item():.4f}')\n",
    "    return loss_values"
   ]
  },
  {
   "cell_type": "markdown",
   "metadata": {},
   "source": [
    "### Forward and Backward Training"
   ]
  },
  {
   "cell_type": "code",
   "execution_count": 10,
   "metadata": {},
   "outputs": [
    {
     "name": "stdout",
     "output_type": "stream",
     "text": [
      "Running on CPU\n",
      "Epoch [1/50], Loss: 0.4457\n",
      "Epoch [2/50], Loss: 0.1924\n",
      "Epoch [3/50], Loss: 0.1395\n",
      "Epoch [4/50], Loss: 0.1366\n",
      "Epoch [5/50], Loss: 0.1316\n",
      "Epoch [6/50], Loss: 0.1161\n",
      "Epoch [7/50], Loss: 0.0975\n",
      "Epoch [8/50], Loss: 0.0510\n",
      "Epoch [9/50], Loss: 0.0457\n",
      "Epoch [10/50], Loss: 0.0166\n",
      "Epoch [11/50], Loss: 0.0205\n",
      "Epoch [12/50], Loss: 0.0220\n",
      "Epoch [13/50], Loss: 0.0175\n",
      "Epoch [14/50], Loss: 0.0237\n",
      "Epoch [15/50], Loss: 0.0199\n",
      "Epoch [16/50], Loss: 0.0192\n",
      "Epoch [17/50], Loss: 0.0124\n",
      "Epoch [18/50], Loss: 0.0228\n",
      "Epoch [19/50], Loss: 0.0299\n",
      "Epoch [20/50], Loss: 0.0175\n",
      "Epoch [21/50], Loss: 0.0210\n",
      "Epoch [22/50], Loss: 0.0182\n",
      "Epoch [23/50], Loss: 0.0213\n",
      "Epoch [24/50], Loss: 0.0126\n",
      "Epoch [25/50], Loss: 0.0289\n",
      "Epoch [26/50], Loss: 0.0141\n",
      "Epoch [27/50], Loss: 0.0270\n",
      "Epoch [28/50], Loss: 0.0251\n",
      "Epoch [29/50], Loss: 0.0095\n",
      "Epoch [30/50], Loss: 0.0065\n",
      "Epoch [31/50], Loss: 0.0166\n",
      "Epoch [32/50], Loss: 0.0131\n",
      "Epoch [33/50], Loss: 0.0152\n",
      "Epoch [34/50], Loss: 0.0117\n",
      "Epoch [35/50], Loss: 0.0092\n",
      "Epoch [36/50], Loss: 0.0150\n",
      "Epoch [37/50], Loss: 0.0099\n",
      "Epoch [38/50], Loss: 0.0179\n",
      "Epoch [39/50], Loss: 0.0248\n",
      "Epoch [40/50], Loss: 0.0169\n",
      "Epoch [41/50], Loss: 0.0146\n",
      "Epoch [42/50], Loss: 0.0102\n",
      "Epoch [43/50], Loss: 0.0144\n",
      "Epoch [44/50], Loss: 0.0162\n",
      "Epoch [45/50], Loss: 0.0148\n",
      "Epoch [46/50], Loss: 0.0112\n",
      "Epoch [47/50], Loss: 0.0056\n",
      "Epoch [48/50], Loss: 0.0126\n",
      "Epoch [49/50], Loss: 0.0375\n",
      "Epoch [50/50], Loss: 0.0240\n",
      "Epoch [1/50], Loss: 0.9932\n",
      "Epoch [2/50], Loss: 0.3104\n",
      "Epoch [3/50], Loss: 0.1975\n",
      "Epoch [4/50], Loss: 0.1437\n",
      "Epoch [5/50], Loss: 0.1699\n",
      "Epoch [6/50], Loss: 0.1480\n",
      "Epoch [7/50], Loss: 0.1046\n",
      "Epoch [8/50], Loss: 0.0494\n",
      "Epoch [9/50], Loss: 0.0470\n",
      "Epoch [10/50], Loss: 0.0667\n",
      "Epoch [11/50], Loss: 0.0468\n",
      "Epoch [12/50], Loss: 0.0346\n",
      "Epoch [13/50], Loss: 0.0349\n",
      "Epoch [14/50], Loss: 0.0356\n",
      "Epoch [15/50], Loss: 0.0295\n",
      "Epoch [16/50], Loss: 0.0074\n",
      "Epoch [17/50], Loss: 0.0419\n",
      "Epoch [18/50], Loss: 0.0255\n",
      "Epoch [19/50], Loss: 0.0140\n",
      "Epoch [20/50], Loss: 0.0244\n",
      "Epoch [21/50], Loss: 0.0422\n",
      "Epoch [22/50], Loss: 0.0293\n",
      "Epoch [23/50], Loss: 0.0156\n",
      "Epoch [24/50], Loss: 0.0212\n",
      "Epoch [25/50], Loss: 0.0200\n",
      "Epoch [26/50], Loss: 0.0119\n",
      "Epoch [27/50], Loss: 0.0134\n",
      "Epoch [28/50], Loss: 0.0110\n",
      "Epoch [29/50], Loss: 0.0083\n",
      "Epoch [30/50], Loss: 0.0223\n",
      "Epoch [31/50], Loss: 0.0180\n",
      "Epoch [32/50], Loss: 0.0131\n",
      "Epoch [33/50], Loss: 0.0103\n",
      "Epoch [34/50], Loss: 0.0209\n",
      "Epoch [35/50], Loss: 0.0064\n",
      "Epoch [36/50], Loss: 0.0079\n",
      "Epoch [37/50], Loss: 0.0148\n",
      "Epoch [38/50], Loss: 0.0115\n",
      "Epoch [39/50], Loss: 0.0084\n",
      "Epoch [40/50], Loss: 0.0124\n",
      "Epoch [41/50], Loss: 0.0196\n",
      "Epoch [42/50], Loss: 0.0127\n",
      "Epoch [43/50], Loss: 0.0164\n",
      "Epoch [44/50], Loss: 0.0106\n",
      "Epoch [45/50], Loss: 0.0107\n",
      "Epoch [46/50], Loss: 0.0157\n",
      "Epoch [47/50], Loss: 0.0086\n",
      "Epoch [48/50], Loss: 0.0119\n",
      "Epoch [49/50], Loss: 0.0071\n",
      "Epoch [50/50], Loss: 0.0160\n"
     ]
    },
    {
     "data": {
      "image/png": "[encoded data removed]",
      "text/plain": [
       "<Figure size 1000x600 with 1 Axes>"
      ]
     },
     "metadata": {},
     "output_type": "display_data"
    }
   ],
   "source": [
    "import torch.optim as optim\n",
    "import matplotlib.pyplot as plt\n",
    "\n",
    "# Define device\n",
    "device = torch.device(\"cuda\" if torch.cuda.is_available() else \"cpu\")\n",
    "if device == \"cuda\":\n",
    "    print(\"Running on GPU\")\n",
    "else: print(\"Running on CPU\")\n",
    "\n",
    "# Forward Model Initialization and Training \n",
    "model = SimpleRNN(input_size=6, hidden_size=20, output_size=1).to(device)\n",
    "criterion = nn.MSELoss()\n",
    "optimizer = optim.Adam(model.parameters(), lr=0.001)\n",
    "num_epochs = 50\n",
    "\n",
    "loss_values_fwd = training_loop(\n",
    "    num_epochs=num_epochs,\n",
    "    device=device,\n",
    "    optimizer=optimizer,\n",
    "    criterion=criterion,\n",
    "    model=model,\n",
    "    train_loader=train_loader_fwd\n",
    "              )\n",
    "\n",
    "# Backward Model Initialization and Training\n",
    "model = SimpleRNN(input_size=6, hidden_size=20, output_size=1).to(device)\n",
    "criterion = nn.MSELoss()\n",
    "optimizer = optim.Adam(model.parameters(), lr=0.001)\n",
    "num_epochs = 50\n",
    "\n",
    "loss_values_bkwd = training_loop(\n",
    "    num_epochs=num_epochs,\n",
    "    device=device,\n",
    "    optimizer=optimizer,\n",
    "    criterion=criterion,\n",
    "    model=model,\n",
    "    train_loader=train_loader_bkwd\n",
    "              )\n",
    "\n",
    "plt.figure(figsize=(10, 6))\n",
    "plt.plot(loss_values_fwd, label='Foward Training Loss')\n",
    "plt.plot(loss_values_bkwd, label='Backward Training Loss')\n",
    "plt.xlabel('Epoch')\n",
    "plt.ylabel('Loss')\n",
    "plt.title('MSE Loss Over Epochs')\n",
    "plt.legend()\n",
    "plt.show()"
   ]
  },
  {
   "cell_type": "markdown",
   "metadata": {},
   "source": [
    "### Thoughts\n",
    "So I have run this forward and backward at a number of different forecasting intervals (1 day, 1 week, 1 month, and 90 days). Although as I increase the distance of prediction the Loss does seem to increase, going forward and backward don't seem to indicate any difference in convergence rates. "
   ]
  },
  {
   "cell_type": "markdown",
   "metadata": {},
   "source": [
    "## Transformer"
   ]
  },
  {
   "cell_type": "code",
   "execution_count": 18,
   "metadata": {},
   "outputs": [],
   "source": [
    "import torch\n",
    "import torch.nn as nn\n",
    "import torch.optim as optim\n",
    "import math\n",
    "\n",
    "class Transformer(nn.Module):\n",
    "    def __init__(self, ntoken, ninp, nhead, nhid, nlayers, dropout=0.5):\n",
    "        super(TransformerModel, self).__init__()\n",
    "        from torch.nn import Transformer\n",
    "        self.model_type = 'Transformer'\n",
    "        self.src_mask = None\n",
    "        self.pos_encoder = PositionalEncoding(ninp, dropout)\n",
    "        self.encoder = nn.Embedding(ntoken, ninp)\n",
    "        self.transformer = Transformer(d_model=ninp, nhead=nhead, num_encoder_layers=nlayers,\n",
    "                                       num_decoder_layers=nlayers, dim_feedforward=nhid, dropout=dropout)\n",
    "        self.decoder = nn.Linear(ninp, ntoken)\n",
    "        self.init_weights()\n",
    "\n",
    "    def _generate_square_subsequent_mask(self, sz):\n",
    "        mask = (torch.triu(torch.ones(sz, sz)) == 1).transpose(0, 1)\n",
    "        mask = mask.float().masked_fill(mask == 0, float('-inf')).masked_fill(mask == 1, float(0.0))\n",
    "        return mask\n",
    "\n",
    "    def init_weights(self):\n",
    "        initrange = 0.1\n",
    "        self.encoder.weight.data.uniform_(-initrange, initrange)\n",
    "        self.decoder.bias.data.zero_()\n",
    "        self.decoder.weight.data.uniform_(-initrange, initrange)\n",
    "\n",
    "    def forward(self, src, tgt):\n",
    "        if self.src_mask is None or self.src_mask.size(0) != len(src):\n",
    "            device = src.device\n",
    "            mask = self._generate_square_subsequent_mask(len(src)).to(device)\n",
    "            self.src_mask = mask\n",
    "\n",
    "        src = self.encoder(src) * math.sqrt(self.ninp)\n",
    "        src = self.pos_encoder(src)\n",
    "        output = self.transformer(src, tgt, src_mask=self.src_mask)\n",
    "        output = self.decoder(output)\n",
    "        return output"
   ]
  },
  {
   "cell_type": "code",
   "execution_count": 19,
   "metadata": {},
   "outputs": [],
   "source": [
    "class PositionalEncoding(nn.Module):\n",
    "    def __init__(self, d_model, dropout=0.1, max_len=5000):\n",
    "        super(PositionalEncoding, self).__init__()\n",
    "        self.dropout = nn.Dropout(p=dropout)\n",
    "\n",
    "        position = torch.arange(max_len).unsqueeze(1)\n",
    "        div_term = torch.exp(torch.arange(0, d_model, 2) * -(math.log(10000.0) / d_model))\n",
    "        pe = torch.zeros(max_len, 1, d_model)\n",
    "        pe[:, 0, 0::2] = torch.sin(position * div_term)\n",
    "        pe[:, 0, 1::2] = torch.cos(position * div_term)\n",
    "        self.register_buffer('pe', pe)\n",
    "\n",
    "    def forward(self, x):\n",
    "        x = x + self.pe[:x.size(0)]\n",
    "        return self.dropout(x)"
   ]
  },
  {
   "cell_type": "code",
   "execution_count": 20,
   "metadata": {},
   "outputs": [
    {
     "name": "stdout",
     "output_type": "stream",
     "text": [
      "Running on CPU\n"
     ]
    },
    {
     "ename": "TypeError",
     "evalue": "Transformer.__init__() got an unexpected keyword argument 'input_size'",
     "output_type": "error",
     "traceback": [
      "\u001b[0;31m---------------------------------------------------------------------------\u001b[0m",
      "\u001b[0;31mTypeError\u001b[0m                                 Traceback (most recent call last)",
      "Cell \u001b[0;32mIn[20], line 8\u001b[0m\n\u001b[1;32m      5\u001b[0m \u001b[38;5;28;01melse\u001b[39;00m: \u001b[38;5;28mprint\u001b[39m(\u001b[38;5;124m\"\u001b[39m\u001b[38;5;124mRunning on CPU\u001b[39m\u001b[38;5;124m\"\u001b[39m)\n\u001b[1;32m      7\u001b[0m \u001b[38;5;66;03m# Forward Model Initialization and Training \u001b[39;00m\n\u001b[0;32m----> 8\u001b[0m model \u001b[38;5;241m=\u001b[39m \u001b[43mTransformer\u001b[49m\u001b[43m(\u001b[49m\u001b[43minput_size\u001b[49m\u001b[38;5;241;43m=\u001b[39;49m\u001b[38;5;241;43m6\u001b[39;49m\u001b[43m,\u001b[49m\u001b[43m \u001b[49m\u001b[43mhidden_size\u001b[49m\u001b[38;5;241;43m=\u001b[39;49m\u001b[38;5;241;43m20\u001b[39;49m\u001b[43m,\u001b[49m\u001b[43m \u001b[49m\u001b[43moutput_size\u001b[49m\u001b[38;5;241;43m=\u001b[39;49m\u001b[38;5;241;43m1\u001b[39;49m\u001b[43m)\u001b[49m\u001b[38;5;241m.\u001b[39mto(device)\n\u001b[1;32m      9\u001b[0m criterion \u001b[38;5;241m=\u001b[39m nn\u001b[38;5;241m.\u001b[39mMSELoss()\n\u001b[1;32m     10\u001b[0m optimizer \u001b[38;5;241m=\u001b[39m optim\u001b[38;5;241m.\u001b[39mAdam(model\u001b[38;5;241m.\u001b[39mparameters(), lr\u001b[38;5;241m=\u001b[39m\u001b[38;5;241m0.001\u001b[39m)\n",
      "\u001b[0;31mTypeError\u001b[0m: Transformer.__init__() got an unexpected keyword argument 'input_size'"
     ]
    }
   ],
   "source": [
    "# Define device\n",
    "device = torch.device(\"cuda\" if torch.cuda.is_available() else \"cpu\")\n",
    "if device == \"cuda\":\n",
    "    print(\"Running on GPU\")\n",
    "else: print(\"Running on CPU\")\n",
    "\n",
    "# Forward Model Initialization and Training \n",
    "model = Transformer(ninp=32,nhead=4, nhid=64, ).to(device)\n",
    "criterion = nn.MSELoss()\n",
    "optimizer = optim.Adam(model.parameters(), lr=0.001)\n",
    "num_epochs = 50\n",
    "\n",
    "loss_values_fwd = training_loop(\n",
    "    num_epochs=num_epochs,\n",
    "    device=device,\n",
    "    optimizer=optimizer,\n",
    "    criterion=criterion,\n",
    "    model=model,\n",
    "    train_loader=train_loader_fwd\n",
    "              )\n",
    "\n",
    "# Backward Model Initialization and Training\n",
    "model = Transformer(input_size=6, hidden_size=20, output_size=1).to(device)\n",
    "criterion = nn.MSELoss()\n",
    "optimizer = optim.Adam(model.parameters(), lr=0.001)\n",
    "num_epochs = 50\n",
    "\n",
    "loss_values_bkwd = training_loop(\n",
    "    num_epochs=num_epochs,\n",
    "    device=device,\n",
    "    optimizer=optimizer,\n",
    "    criterion=criterion,\n",
    "    model=model,\n",
    "    train_loader=train_loader_bkwd\n",
    "              )\n",
    "\n",
    "plt.figure(figsize=(10, 6))\n",
    "plt.plot(loss_values_fwd, label='Foward Training Loss')\n",
    "plt.plot(loss_values_bkwd, label='Backward Training Loss')\n",
    "plt.xlabel('Epoch')\n",
    "plt.ylabel('Loss')\n",
    "plt.title('MSE Loss Over Epochs')\n",
    "plt.legend()\n",
    "plt.show()"
   ]
  },
  {
   "cell_type": "code",
   "execution_count": null,
   "metadata": {},
   "outputs": [],
   "source": []
  }
 ],
 "metadata": {
  "kernelspec": {
   "display_name": "predictpast",
   "language": "python",
   "name": "python3"
  },
  "language_info": {
   "codemirror_mode": {
    "name": "ipython",
    "version": 3
   },
   "file_extension": ".py",
   "mimetype": "text/x-python",
   "name": "python",
   "nbconvert_exporter": "python",
   "pygments_lexer": "ipython3",
   "version": "3.10.14"
  }
 },
 "nbformat": 4,
 "nbformat_minor": 2
}
