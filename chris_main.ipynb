{
 "cells": [
  {
   "cell_type": "code",
   "execution_count": 1,
   "metadata": {},
   "outputs": [
    {
     "name": "stderr",
     "output_type": "stream",
     "text": [
      "[*********************100%%**********************]  1 of 1 completed\n"
     ]
    }
   ],
   "source": [
    "from pandas_datareader import data as pdr\n",
    "\n",
    "import yfinance as yf\n",
    "yf.pdr_override()\n",
    "\n",
    "df = pdr.get_data_yahoo(\"IBM\", start=\"2019-01-01\", end=\"2024-01-01\")"
   ]
  },
  {
   "cell_type": "code",
   "execution_count": 2,
   "metadata": {},
   "outputs": [],
   "source": [
    "reversed_df = df.iloc[::-1]"
   ]
  },
  {
   "cell_type": "code",
   "execution_count": 3,
   "metadata": {},
   "outputs": [],
   "source": [
    "from sklearn.preprocessing import StandardScaler\n",
    "\n",
    "scaler = StandardScaler()\n",
    "scaled_features_fwd = scaler.fit_transform(df) \n",
    "scaled_features_bkwd = scaler.fit_transform(reversed_df) "
   ]
  },
  {
   "cell_type": "code",
   "execution_count": 68,
   "metadata": {},
   "outputs": [],
   "source": [
    "import numpy as np\n",
    "\n",
    "def create_sequences(data, seq_length, prediction_length):\n",
    "    xs = []\n",
    "    ys = []\n",
    "\n",
    "    for i in range(len(data)-seq_length-prediction_length+1):\n",
    "        x = data[i:(i+seq_length)]\n",
    "        y = data[i+seq_length+prediction_length-1][4]  \n",
    "        xs.append(x)\n",
    "        ys.append(y)\n",
    "\n",
    "    return np.array(xs), np.array(ys)\n",
    "\n",
    "seq_length = 5\n",
    "predicition_length = 1\n",
    "X_fwd, y_fwd = create_sequences(scaled_features_fwd, seq_length,predicition_length)\n",
    "X_bkwd, y_bkwd = create_sequences(scaled_features_bkwd, seq_length, predicition_length)"
   ]
  },
  {
   "cell_type": "code",
   "execution_count": 69,
   "metadata": {},
   "outputs": [],
   "source": [
    "split_fraction = 0.8\n",
    "split = int(split_fraction * len(X_fwd))\n",
    "\n",
    "X_train_fwd, X_test_fwd = X_fwd[:split], X_fwd[split:]\n",
    "y_train_fwd, y_test_fwd = y_fwd[:split], y_fwd[split:]\n",
    "\n",
    "X_train_bkwd, X_test_bkwd = X_bkwd[:split], X_bkwd[split:]\n",
    "y_train_bkwd, y_test_bkwd = y_bkwd[:split], y_bkwd[split:]"
   ]
  },
  {
   "cell_type": "code",
   "execution_count": 70,
   "metadata": {},
   "outputs": [],
   "source": [
    "import torch\n",
    "from torch.utils.data import TensorDataset, DataLoader\n",
    "\n",
    "batch_size = 64  \n",
    "\n",
    "#Forward\n",
    "train_data = TensorDataset(torch.Tensor(X_train_fwd), torch.Tensor(y_train_fwd))\n",
    "train_loader_fwd = DataLoader(train_data, shuffle=True, batch_size=batch_size)\n",
    "\n",
    "test_data = TensorDataset(torch.Tensor(X_test_fwd), torch.Tensor(y_test_fwd))\n",
    "test_loader_fwd = DataLoader(test_data, shuffle=False, batch_size=batch_size)\n",
    "\n",
    "#Backward\n",
    "train_data = TensorDataset(torch.Tensor(X_train_bkwd), torch.Tensor(y_train_bkwd))\n",
    "train_loader_bkwd = DataLoader(train_data, shuffle=True, batch_size=batch_size)\n",
    "\n",
    "test_data = TensorDataset(torch.Tensor(X_test_bkwd), torch.Tensor(y_test_bkwd))\n",
    "test_loader_bkwd = DataLoader(test_data, shuffle=False, batch_size=batch_size)"
   ]
  },
  {
   "cell_type": "markdown",
   "metadata": {},
   "source": [
    "## Simple RNN"
   ]
  },
  {
   "cell_type": "code",
   "execution_count": 71,
   "metadata": {},
   "outputs": [],
   "source": [
    "import torch\n",
    "import torch.nn as nn\n",
    "\n",
    "class SimpleRNN(nn.Module):\n",
    "    def __init__(self, input_size, hidden_size, output_size):\n",
    "        super(SimpleRNN, self).__init__()\n",
    "        self.hidden_size = hidden_size\n",
    "        self.rnn = nn.RNN(input_size, hidden_size, num_layers=1, batch_first=True)\n",
    "        self.fc = nn.Linear(hidden_size, output_size)\n",
    "    \n",
    "    def forward(self, x):\n",
    "        h0 = torch.zeros(1, x.size(0), self.hidden_size)\n",
    "        # Forward propagate the RNN\n",
    "        out, _ = self.rnn(x, h0)\n",
    "        # Pass the output of the last time step to the classifier\n",
    "        out = self.fc(out[:, -1, :])\n",
    "        return out"
   ]
  },
  {
   "cell_type": "code",
   "execution_count": 72,
   "metadata": {},
   "outputs": [],
   "source": [
    "def training_loop(num_epochs, device, optimizer, criterion, model, train_loader):\n",
    "    loss_values =[]\n",
    "    model.train()\n",
    "    \n",
    "    for epoch in range(num_epochs):\n",
    "        for inputs, labels in train_loader:\n",
    "            inputs, labels = inputs.to(device), labels.to(device)\n",
    "            \n",
    "            # Zero the parameter gradients\n",
    "            optimizer.zero_grad()\n",
    "            \n",
    "            # Forward pass\n",
    "            outputs = model(inputs)\n",
    "            \n",
    "            # Calculate loss\n",
    "            loss = criterion(outputs, labels.unsqueeze(-1))\n",
    "            \n",
    "            # Backward pass and optimize\n",
    "            loss.backward()\n",
    "            optimizer.step()\n",
    "    \n",
    "        loss_values.append(loss.item())\n",
    "        print(f'Epoch [{epoch+1}/{num_epochs}], Loss: {loss.item():.4f}')\n",
    "    return loss_values"
   ]
  },
  {
   "cell_type": "markdown",
   "metadata": {},
   "source": [
    "### Forward and Backward Training"
   ]
  },
  {
   "cell_type": "code",
   "execution_count": 84,
   "metadata": {},
   "outputs": [
    {
     "name": "stdout",
     "output_type": "stream",
     "text": [
      "Running on CPU\n",
      "Epoch [1/50], Loss: 0.2797\n",
      "Epoch [2/50], Loss: 0.1215\n",
      "Epoch [3/50], Loss: 0.1211\n",
      "Epoch [4/50], Loss: 0.0888\n",
      "Epoch [5/50], Loss: 0.0575\n",
      "Epoch [6/50], Loss: 0.0606\n",
      "Epoch [7/50], Loss: 0.0199\n",
      "Epoch [8/50], Loss: 0.0297\n",
      "Epoch [9/50], Loss: 0.0327\n",
      "Epoch [10/50], Loss: 0.0151\n",
      "Epoch [11/50], Loss: 0.0189\n",
      "Epoch [12/50], Loss: 0.0228\n",
      "Epoch [13/50], Loss: 0.0163\n",
      "Epoch [14/50], Loss: 0.0163\n",
      "Epoch [15/50], Loss: 0.0300\n",
      "Epoch [16/50], Loss: 0.0161\n",
      "Epoch [17/50], Loss: 0.0128\n",
      "Epoch [18/50], Loss: 0.0265\n",
      "Epoch [19/50], Loss: 0.0253\n",
      "Epoch [20/50], Loss: 0.0052\n",
      "Epoch [21/50], Loss: 0.0170\n",
      "Epoch [22/50], Loss: 0.0200\n",
      "Epoch [23/50], Loss: 0.0157\n",
      "Epoch [24/50], Loss: 0.0192\n",
      "Epoch [25/50], Loss: 0.0173\n",
      "Epoch [26/50], Loss: 0.0069\n",
      "Epoch [27/50], Loss: 0.0092\n",
      "Epoch [28/50], Loss: 0.0171\n",
      "Epoch [29/50], Loss: 0.0185\n",
      "Epoch [30/50], Loss: 0.0216\n",
      "Epoch [31/50], Loss: 0.0229\n",
      "Epoch [32/50], Loss: 0.0098\n",
      "Epoch [33/50], Loss: 0.0058\n",
      "Epoch [34/50], Loss: 0.0117\n",
      "Epoch [35/50], Loss: 0.0181\n",
      "Epoch [36/50], Loss: 0.0183\n",
      "Epoch [37/50], Loss: 0.0183\n",
      "Epoch [38/50], Loss: 0.0147\n",
      "Epoch [39/50], Loss: 0.0229\n",
      "Epoch [40/50], Loss: 0.0176\n",
      "Epoch [41/50], Loss: 0.0206\n",
      "Epoch [42/50], Loss: 0.0187\n",
      "Epoch [43/50], Loss: 0.0248\n",
      "Epoch [44/50], Loss: 0.0284\n",
      "Epoch [45/50], Loss: 0.0095\n",
      "Epoch [46/50], Loss: 0.0199\n",
      "Epoch [47/50], Loss: 0.0142\n",
      "Epoch [48/50], Loss: 0.0128\n",
      "Epoch [49/50], Loss: 0.0248\n",
      "Epoch [50/50], Loss: 0.0112\n",
      "Epoch [1/50], Loss: 0.8726\n",
      "Epoch [2/50], Loss: 0.2566\n",
      "Epoch [3/50], Loss: 0.1637\n",
      "Epoch [4/50], Loss: 0.1367\n",
      "Epoch [5/50], Loss: 0.2490\n",
      "Epoch [6/50], Loss: 0.0637\n",
      "Epoch [7/50], Loss: 0.1061\n",
      "Epoch [8/50], Loss: 0.0921\n",
      "Epoch [9/50], Loss: 0.0450\n",
      "Epoch [10/50], Loss: 0.0547\n",
      "Epoch [11/50], Loss: 0.0192\n",
      "Epoch [12/50], Loss: 0.0553\n",
      "Epoch [13/50], Loss: 0.0300\n",
      "Epoch [14/50], Loss: 0.0207\n",
      "Epoch [15/50], Loss: 0.0233\n",
      "Epoch [16/50], Loss: 0.0132\n",
      "Epoch [17/50], Loss: 0.0237\n",
      "Epoch [18/50], Loss: 0.0189\n",
      "Epoch [19/50], Loss: 0.0167\n",
      "Epoch [20/50], Loss: 0.0083\n",
      "Epoch [21/50], Loss: 0.0109\n",
      "Epoch [22/50], Loss: 0.0274\n",
      "Epoch [23/50], Loss: 0.0216\n",
      "Epoch [24/50], Loss: 0.0086\n",
      "Epoch [25/50], Loss: 0.0055\n",
      "Epoch [26/50], Loss: 0.0192\n",
      "Epoch [27/50], Loss: 0.0135\n",
      "Epoch [28/50], Loss: 0.0095\n",
      "Epoch [29/50], Loss: 0.0132\n",
      "Epoch [30/50], Loss: 0.0116\n",
      "Epoch [31/50], Loss: 0.0119\n",
      "Epoch [32/50], Loss: 0.0175\n",
      "Epoch [33/50], Loss: 0.0088\n",
      "Epoch [34/50], Loss: 0.0164\n",
      "Epoch [35/50], Loss: 0.0142\n",
      "Epoch [36/50], Loss: 0.0146\n",
      "Epoch [37/50], Loss: 0.0118\n",
      "Epoch [38/50], Loss: 0.0123\n",
      "Epoch [39/50], Loss: 0.0171\n",
      "Epoch [40/50], Loss: 0.0104\n",
      "Epoch [41/50], Loss: 0.0088\n",
      "Epoch [42/50], Loss: 0.0074\n",
      "Epoch [43/50], Loss: 0.0064\n",
      "Epoch [44/50], Loss: 0.0095\n",
      "Epoch [45/50], Loss: 0.0130\n",
      "Epoch [46/50], Loss: 0.0063\n",
      "Epoch [47/50], Loss: 0.0108\n",
      "Epoch [48/50], Loss: 0.0140\n",
      "Epoch [49/50], Loss: 0.0144\n",
      "Epoch [50/50], Loss: 0.0066\n"
     ]
    },
    {
     "data": {
      "image/png": "[encoded data removed]",
      "text/plain": [
       "<Figure size 1000x600 with 1 Axes>"
      ]
     },
     "metadata": {},
     "output_type": "display_data"
    }
   ],
   "source": [
    "import torch.optim as optim\n",
    "import matplotlib.pyplot as plt\n",
    "\n",
    "# Define device\n",
    "device = torch.device(\"cuda\" if torch.cuda.is_available() else \"cpu\")\n",
    "if device == \"cuda\":\n",
    "    print(\"Running on GPU\")\n",
    "else: print(\"Running on CPU\")\n",
    "\n",
    "# Forward Model Initialization and Training \n",
    "model = SimpleRNN(input_size=6, hidden_size=20, output_size=1).to(device)\n",
    "criterion = nn.MSELoss()\n",
    "optimizer = optim.Adam(model.parameters(), lr=0.001)\n",
    "num_epochs = 50\n",
    "\n",
    "loss_values_fwd = training_loop(\n",
    "    num_epochs=num_epochs,\n",
    "    device=device,\n",
    "    optimizer=optimizer,\n",
    "    criterion=criterion,\n",
    "    model=model,\n",
    "    train_loader=train_loader_fwd\n",
    "              )\n",
    "\n",
    "# Backward Model Initialization and Training\n",
    "model = SimpleRNN(input_size=6, hidden_size=20, output_size=1).to(device)\n",
    "criterion = nn.MSELoss()\n",
    "optimizer = optim.Adam(model.parameters(), lr=0.001)\n",
    "num_epochs = 50\n",
    "\n",
    "loss_values_bkwd = training_loop(\n",
    "    num_epochs=num_epochs,\n",
    "    device=device,\n",
    "    optimizer=optimizer,\n",
    "    criterion=criterion,\n",
    "    model=model,\n",
    "    train_loader=train_loader_bkwd\n",
    "              )\n",
    "\n",
    "plt.figure(figsize=(10, 6))\n",
    "plt.plot(loss_values_fwd, label='Foward Training Loss')\n",
    "plt.plot(loss_values_bkwd, label='Backward Training Loss')\n",
    "plt.xlabel('Epoch')\n",
    "plt.ylabel('Loss')\n",
    "plt.title('MSE Loss Over Epochs')\n",
    "plt.legend()\n",
    "plt.show()"
   ]
  },
  {
   "cell_type": "markdown",
   "metadata": {},
   "source": [
    "### Thought\n",
    "So I have run this forward and backward at a number of different forecasting intervals (1 day, 1 week, 1 month, and 90 days). Although as I increase the distance of prediction the Loss does seem to increase, going forward and backward don't seem to indicate any difference in convergence rates. "
   ]
  },
  {
   "cell_type": "code",
   "execution_count": null,
   "metadata": {},
   "outputs": [],
   "source": []
  }
 ],
 "metadata": {
  "kernelspec": {
   "display_name": "predictpast",
   "language": "python",
   "name": "python3"
  },
  "language_info": {
   "codemirror_mode": {
    "name": "ipython",
    "version": 3
   },
   "file_extension": ".py",
   "mimetype": "text/x-python",
   "name": "python",
   "nbconvert_exporter": "python",
   "pygments_lexer": "ipython3",
   "version": "3.10.14"
  }
 },
 "nbformat": 4,
 "nbformat_minor": 2
}
